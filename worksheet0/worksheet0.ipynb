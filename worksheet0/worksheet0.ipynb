{
 "cells": [
  {
   "cell_type": "markdown",
   "metadata": {},
   "source": [
    "**Exercise on functions**\n",
    "\n",
    "**Task 1:**\n"
   ]
  },
  {
   "cell_type": "code",
   "execution_count": null,
   "metadata": {},
   "outputs": [
    {
     "name": "stdout",
     "output_type": "stream",
     "text": [
      "Welcome to the Unit Converter!\n"
     ]
    }
   ],
   "source": [
    "def length_converter(amount, source_unit):\n",
    "    \"\"\"\n",
    "    Converts length between meters and feet.\n",
    "    \n",
    "    Parameters:\n",
    "    amount (float): The numerical value to be converted.\n",
    "    source_unit (str): The unit of measurement ('m' for meters, 'ft' for feet).\n",
    "    \n",
    "    Returns:\n",
    "    float or str: Converted value or an error message if the unit is invalid.\n",
    "    \"\"\"\n",
    "    if source_unit == \"m\":\n",
    "        return amount * 3.28084  # Convert meters to feet\n",
    "    elif source_unit == \"ft\":\n",
    "        return amount / 3.28084  # Convert feet to meters\n",
    "    else:\n",
    "        return \"Invalid Unit\"\n",
    "\n",
    "def weight_converter(amount, source_unit):\n",
    "    \"\"\"\n",
    "    Converts weight between kilograms and pounds.\n",
    "    \n",
    "    Parameters:\n",
    "    amount (float): The numerical value to be converted.\n",
    "    source_unit (str): The unit of measurement ('kg' for kilograms, 'lb' for pounds).\n",
    "    \n",
    "    Returns:\n",
    "    float or str: Converted value or an error message if the unit is invalid.\n",
    "    \"\"\"\n",
    "    if source_unit == \"kg\":\n",
    "        return amount * 2.20462  # Convert kilograms to pounds\n",
    "    elif source_unit == \"lb\":\n",
    "        return amount / 2.20462  # Convert pounds to kilograms\n",
    "    else:\n",
    "        return \"Invalid Unit\"\n",
    "\n",
    "def volume_converter(amount, source_unit):\n",
    "    \"\"\"\n",
    "    Converts volume between liters and gallons.\n",
    "    \n",
    "    Parameters:\n",
    "    amount (float): The numerical value to be converted.\n",
    "    source_unit (str): The unit of measurement ('L' for liters, 'gal' for gallons).\n",
    "    \n",
    "    Returns:\n",
    "    float or str: Converted value or an error message if the unit is invalid.\n",
    "    \"\"\"\n",
    "    if source_unit == \"L\":\n",
    "        return amount * 0.264172  # Convert liters to gallons\n",
    "    elif source_unit == \"gal\":\n",
    "        return amount / 0.264172  # Convert gallons to liters\n",
    "    else:\n",
    "        return \"Invalid Unit\"\n",
    "\n",
    "def main():\n",
    "    \"\"\"\n",
    "    Main function to prompt user for input and perform unit conversions.\n",
    "    \"\"\"\n",
    "    print(\"Welcome to the Unit Converter!\")\n",
    "\n",
    "    try:\n",
    "        conversion_choice = int(input(\"Choose 1 for length, 2 for weight, 3 for volume: \"))\n",
    "        amount = float(input(\"Enter the value to convert: \"))\n",
    "\n",
    "        if conversion_choice == 1:\n",
    "            source_unit = input(\"Enter the unit to convert from (m/ft): \")\n",
    "            print(f\"Converted value: {length_converter(amount, source_unit)}\")\n",
    "\n",
    "        elif conversion_choice == 2:\n",
    "            source_unit = input(\"Enter the unit to convert from (kg/lb): \")\n",
    "            print(f\"Converted value: {weight_converter(amount, source_unit)}\")\n",
    "\n",
    "        elif conversion_choice == 3:\n",
    "            source_unit = input(\"Enter the unit to convert from (L/gal): \")\n",
    "            print(f\"Converted value: {volume_converter(amount, source_unit)}\")\n",
    "\n",
    "        else:\n",
    "            print(\"Invalid selection. Please choose a valid option.\")\n",
    "\n",
    "    except ValueError as err:\n",
    "        print(f\"Error: {err}. Please enter a valid numerical value.\")\n",
    "\n",
    "# Run the program\n",
    "main()\n"
   ]
  },
  {
   "cell_type": "markdown",
   "metadata": {},
   "source": [
    "**Task 2**"
   ]
  },
  {
   "cell_type": "code",
   "execution_count": null,
   "metadata": {},
   "outputs": [],
   "source": [
    "def sum_of_numbers(num_list):\n",
    "    \"\"\"\n",
    "    Calculate the sum of a list of numbers.\n",
    "    \n",
    "    :param num_list: List of numeric values.\n",
    "    :return: Sum of the numbers.\n",
    "    \"\"\"\n",
    "    total_sum = 0  # Initialize sum variable\n",
    "    for value in num_list:\n",
    "        total_sum += value  # Add each number to total_sum\n",
    "    return total_sum\n",
    "\n",
    "def average_of_numbers(num_list):\n",
    "    \"\"\"\n",
    "    Calculate the average of a list of numbers.\n",
    "    \n",
    "    :param num_list: List of numeric values.\n",
    "    :return: Average of the numbers, or 0 if the list is empty.\n",
    "    \"\"\"\n",
    "    if len(num_list) == 0:\n",
    "        return 0\n",
    "    return sum_of_numbers(num_list) / len(num_list)  # Calculate average\n",
    "\n",
    "def maximum_number(num_list):\n",
    "    \"\"\"\n",
    "    Find the maximum number in a list.\n",
    "    \n",
    "    :param num_list: List of numeric values.\n",
    "    :return: Maximum value, or 0 if the list is empty.\n",
    "    \"\"\"\n",
    "    if len(num_list) == 0:\n",
    "        return 0\n",
    "    max_value = num_list[0]  # Initialize max_value with the first number\n",
    "    for value in num_list:\n",
    "        if value > max_value:  # Update max_value if a larger number is found\n",
    "            max_value = value\n",
    "    return max_value\n",
    "\n",
    "def minimum_number(num_list):\n",
    "    \"\"\"\n",
    "    Find the minimum number in a list.\n",
    "    \n",
    "    :param num_list: List of numeric values.\n",
    "    :return: Minimum value, or 0 if the list is empty.\n",
    "    \"\"\"\n",
    "    if len(num_list) == 0:\n",
    "        return 0\n",
    "    min_value = num_list[0]  # Initialize min_value with the first number\n",
    "    for value in num_list:\n",
    "        if value < min_value:  # Update min_value if a smaller number is found\n",
    "            min_value = value\n",
    "    return min_value\n",
    "\n",
    "def main():\n",
    "    \"\"\"\n",
    "    Main function to take user input and perform the selected operation.\n",
    "    \"\"\"\n",
    "    try:\n",
    "        num_list = [float(x) for x in input(\"Enter the numbers separated by space: \").split()]\n",
    "        operation_choice = int(input(\"Choose 1 for sum, 2 for average, 3 for maximum, 4 for minimum: \"))\n",
    "\n",
    "        if operation_choice == 1:\n",
    "            print(f\"Sum of the numbers: {sum_of_numbers(num_list)}\")\n",
    "        elif operation_choice == 2:\n",
    "            print(f\"Average of the numbers: {average_of_numbers(num_list)}\")\n",
    "        elif operation_choice == 3:\n",
    "            print(f\"Maximum of the numbers: {maximum_number(num_list)}\")\n",
    "        elif operation_choice == 4:\n",
    "            print(f\"Minimum of the numbers: {minimum_number(num_list)}\")\n",
    "        else:\n",
    "            print(\"Invalid choice\")\n",
    "\n",
    "    except ValueError as error_msg:\n",
    "        print(f\"Error: {error_msg}. Please enter a valid number.\")\n",
    "\n",
    "main()\n"
   ]
  },
  {
   "cell_type": "markdown",
   "metadata": {},
   "source": [
    "**Exercise on List Manipulation** \n",
    "\n",
    "Extract every other element"
   ]
  },
  {
   "cell_type": "code",
   "execution_count": null,
   "metadata": {},
   "outputs": [],
   "source": [
    "def extract_alternate_elements(input_list):\n",
    "    \n",
    "    # Validate if the input is a list\n",
    "    if not isinstance(input_list, list):\n",
    "        raise TypeError(\"Input must be a list.\")\n",
    "    \n",
    "    alternate_list = []  # List to store alternate elements\n",
    "    for index in range(0, len(input_list), 2):  # Step of 2 to get every other element\n",
    "        alternate_list.append(input_list[index])\n",
    "    \n",
    "    return alternate_list\n",
    "\n",
    "# Testing the function\n",
    "try:\n",
    "    result_list = extract_alternate_elements([1, 2, 3, 4, 5, 6])\n",
    "    print(result_list)\n",
    "except (TypeError, ValueError) as error_message:\n",
    "    print(f\"Error: {error_message}\")\n"
   ]
  },
  {
   "cell_type": "markdown",
   "metadata": {},
   "source": [
    "Slice a sublist"
   ]
  },
  {
   "cell_type": "code",
   "execution_count": null,
   "metadata": {},
   "outputs": [],
   "source": [
    "def get_sublist(input_list, start, end):\n",
    "  return input_list[start:end]\n",
    "\n",
    "result_list = get_sublist([1, 2, 3, 4, 5, 6],2, 4)\n",
    "result_list"
   ]
  },
  {
   "cell_type": "code",
   "execution_count": null,
   "metadata": {},
   "outputs": [],
   "source": [
    "def reverse_list(input_list):\n",
    "    return input_list[::-1]\n",
    "reverse_list([1, 2, 3, 4, 5])  "
   ]
  },
  {
   "cell_type": "markdown",
   "metadata": {},
   "source": [
    "Remove first and last element"
   ]
  },
  {
   "cell_type": "code",
   "execution_count": null,
   "metadata": {},
   "outputs": [],
   "source": [
    "def remove_first_last(input_list):\n",
    "  return input_list[1:-1:]\n",
    "\n",
    "remove_first_last([1, 2, 3, 4, 5])"
   ]
  },
  {
   "cell_type": "markdown",
   "metadata": {},
   "source": [
    "Get first n elements"
   ]
  },
  {
   "cell_type": "code",
   "execution_count": null,
   "metadata": {},
   "outputs": [],
   "source": [
    "def get_first_n(input_list, n):\n",
    "  return input_list[:n]\n",
    "n = int(input(\"Enter n number to return first n element\"))\n",
    "get_first_n([1, 2, 3, 4, 5],n)"
   ]
  },
  {
   "cell_type": "markdown",
   "metadata": {},
   "source": [
    "Extract elements from end"
   ]
  },
  {
   "cell_type": "code",
   "execution_count": null,
   "metadata": {},
   "outputs": [],
   "source": [
    "def get_lst_n(input_list, n):\n",
    "  return input_list[-n:]\n",
    "n = int(input(\"Enter number to return n last element\"))\n",
    "\n",
    "get_last_n([1, 2, 3, 4, 5],n)"
   ]
  },
  {
   "cell_type": "markdown",
   "metadata": {},
   "source": [
    "Extract elements in reverse order"
   ]
  },
  {
   "cell_type": "code",
   "execution_count": null,
   "metadata": {},
   "outputs": [],
   "source": [
    "def reverse_skip(input_list):\n",
    "  return input_list[-2::-2]\n",
    "\n",
    "reverse_skip([1, 2, 3, 4, 5, 6])"
   ]
  },
  {
   "cell_type": "markdown",
   "metadata": {},
   "source": [
    "Exercise on nested list: \n",
    "\n",
    "Flatten a nested list:"
   ]
  },
  {
   "cell_type": "code",
   "execution_count": null,
   "metadata": {},
   "outputs": [],
   "source": [
    "def flatten(input_list):\n",
    "\n",
    "  flat_list = []\n",
    "\n",
    "  for sublist in lst:\n",
    "    if isinstance(sublist, list):\n",
    "      flat_list.extend(sublist)\n",
    "    else:\n",
    "      flat_list.append(sublist)\n",
    "  return flat_list\n",
    "\n",
    "nested_list = [[1, 2], [3, 4], [5]]\n",
    "print(flatten(nested_list))"
   ]
  },
  {
   "cell_type": "code",
   "execution_count": null,
   "metadata": {},
   "outputs": [],
   "source": [
    "def access_nested_element(input_list, indices):\n",
    "  return input_list[indices[0]][indices[1]]\n",
    "\n",
    "access_nested_element( [[1, 2, 3], [4, 5, 6], [7, 8, 9]], [1,2])"
   ]
  },
  {
   "cell_type": "code",
   "execution_count": null,
   "metadata": {},
   "outputs": [],
   "source": [
    "def sum_nested(input_list):\n",
    "  total = 0\n",
    "  for item in input_list:\n",
    "    if isinstance(item, list):\n",
    "        total += sum_nested(item)\n",
    "    else:\n",
    "        total += item\n",
    "  return total\n",
    "\n",
    "\n",
    "nested_list = [[1, 2], [3, [4, 5]], 6]\n",
    "print(sum_nested(nested_list))\n"
   ]
  },
  {
   "cell_type": "code",
   "execution_count": null,
   "metadata": {},
   "outputs": [],
   "source": [
    "def remove_element(input_list, elm):\n",
    "  for i, sublist in enumerate(input_list):\n",
    "    for j, num in enumerate(sublist):\n",
    "      if num == 2:\n",
    "        input_list[i].pop(j)\n",
    "\n",
    "  return input_list\n",
    "\n",
    "remove_element([[1, 2], [3, 2], [4, 5]], 2)"
   ]
  },
  {
   "cell_type": "code",
   "execution_count": null,
   "metadata": {},
   "outputs": [],
   "source": [
    "def find_max(input_list):\n",
    "    max_value = float('-inf')  # Initialize with negative infinity\n",
    "\n",
    "    for item in input_list:\n",
    "        if isinstance(item, list):\n",
    "            max_value = max(max_value, find_max(item))  # Recursively find max\n",
    "        else:\n",
    "            max_value = max(max_value, item)  # Compare numbers\n",
    "\n",
    "    return max_value\n",
    "\n",
    "\n",
    "nested_list = [[1, 2], [3, [4, 5]], 6]\n",
    "find_max(nested_list)\n"
   ]
  },
  {
   "cell_type": "code",
   "execution_count": null,
   "metadata": {},
   "outputs": [],
   "source": [
    "def count_cccurrences(input_list, elem):\n",
    "  count = 0\n",
    "  for item in input_list:\n",
    "    if isinstance(item,list):\n",
    "      for num in item:\n",
    "        if elem == num:\n",
    "          count +=1\n",
    "    else:\n",
    "      if elem == item:\n",
    "        count +=1\n",
    "\n",
    "  return count\n",
    "\n",
    "input_list =  [[1, 2], [2, 3], [2, 4]]\n",
    "count_cccurrences(input_list,2)"
   ]
  },
  {
   "cell_type": "code",
   "execution_count": null,
   "metadata": {},
   "outputs": [],
   "source": [
    "def deep_flatten(input_list):\n",
    "    flat_list = []\n",
    "    for item in input_list:\n",
    "        if isinstance(item, list):  \n",
    "            flat_list.extend(deep_flatten(item))\n",
    "        else:\n",
    "            flat_list.append(item) \n",
    "    return flat_list\n",
    "\n",
    "\n",
    "nested_list = [[[1, 2], [3, 4]], [[5, 6], [7, 8]]]\n",
    "deep_flatten(nested_list)\n"
   ]
  },
  {
   "cell_type": "code",
   "execution_count": null,
   "metadata": {},
   "outputs": [],
   "source": [
    "def deep_flatten(input_list):\n",
    "    flat_list = []\n",
    "    for item in input_list:\n",
    "        if isinstance(item, list):  # If item is a list, recursively flatten it\n",
    "            flat_list.extend(deep_flatten(item))\n",
    "        else:\n",
    "            flat_list.append(item)  # Append non-list elements directly\n",
    "    return flat_list\n",
    "\n",
    "\n",
    "nested_list =[[1, 2], [3, 4], [5, 6]]\n",
    "new_list = deep_flatten(nested_list)\n",
    "\n",
    "sum(new_list)/len(new_list)\n"
   ]
  },
  {
   "cell_type": "markdown",
   "metadata": {},
   "source": [
    "**NumPy**"
   ]
  },
  {
   "cell_type": "markdown",
   "metadata": {},
   "source": [
    "Basic vector and matrix operations with numpy\n",
    "\n",
    "Problem - 1: Array creation:"
   ]
  },
  {
   "cell_type": "code",
   "execution_count": null,
   "metadata": {},
   "outputs": [],
   "source": [
    "import numpy as np"
   ]
  },
  {
   "cell_type": "markdown",
   "metadata": {},
   "source": [
    "initialize an empty array with size 2X2"
   ]
  },
  {
   "cell_type": "code",
   "execution_count": null,
   "metadata": {},
   "outputs": [],
   "source": [
    "empty_array = np.empty((2,2))\n",
    "empty_array"
   ]
  },
  {
   "cell_type": "markdown",
   "metadata": {},
   "source": [
    "initialize an all-one array with size 4X2"
   ]
  },
  {
   "cell_type": "code",
   "execution_count": null,
   "metadata": {},
   "outputs": [],
   "source": [
    "one_array = np.ones((4,2))\n",
    "print(one_array)"
   ]
  },
  {
   "cell_type": "markdown",
   "metadata": {},
   "source": [
    "return a new array of given shape and type."
   ]
  },
  {
   "cell_type": "code",
   "execution_count": null,
   "metadata": {},
   "outputs": [],
   "source": [
    "fill_value_array = np.full((3,2), 7) #create 3X2 size of matrix with value 7 on each\n",
    "fill_value_array"
   ]
  },
  {
   "cell_type": "markdown",
   "metadata": {},
   "source": [
    "return a new array of zeros with same shape and type as given array"
   ]
  },
  {
   "cell_type": "code",
   "execution_count": null,
   "metadata": {},
   "outputs": [],
   "source": [
    "sample_array = np.array([[4, 5], [6, 7]])\n",
    "print(sample_array)\n",
    "print(\"\\nZero Array:\")\n",
    "zero_array = np.zeros_like(sample_array)\n",
    "print(zero_array)"
   ]
  },
  {
   "cell_type": "markdown",
   "metadata": {},
   "source": [
    "return a new array of ones with same shape and type."
   ]
  },
  {
   "cell_type": "code",
   "execution_count": null,
   "metadata": {},
   "outputs": [],
   "source": [
    "ones_like_array = np.ones_like(sample_array)\n",
    "ones_like_array"
   ]
  },
  {
   "cell_type": "markdown",
   "metadata": {},
   "source": [
    "convert an existing list to numpy array"
   ]
  },
  {
   "cell_type": "code",
   "execution_count": null,
   "metadata": {},
   "outputs": [],
   "source": [
    "new_list = [1, 2, 3, 4]\n",
    "numpy_array = np.array(new_list)\n",
    "numpy_array"
   ]
  },
  {
   "cell_type": "markdown",
   "metadata": {},
   "source": [
    "Create an array with values ranging from 10 to 49"
   ]
  },
  {
   "cell_type": "code",
   "execution_count": null,
   "metadata": {},
   "outputs": [],
   "source": [
    "array_10_49 = np.arange(10, 50)\n",
    "array_10_49"
   ]
  },
  {
   "cell_type": "markdown",
   "metadata": {},
   "source": [
    "Create a 3X3 matrix with values ranging from 0 to 8."
   ]
  },
  {
   "cell_type": "code",
   "execution_count": null,
   "metadata": {},
   "outputs": [],
   "source": [
    "matrix_3x3 = np.arange(9).reshape(3, 3)\n",
    "matrix_3x3"
   ]
  },
  {
   "cell_type": "markdown",
   "metadata": {},
   "source": [
    "Create a 3X3 identity matrix.{Hint:np.eye()}"
   ]
  },
  {
   "cell_type": "code",
   "execution_count": null,
   "metadata": {},
   "outputs": [],
   "source": [
    "identity_matrix = np.eye(3)\n",
    "identity_matrix"
   ]
  },
  {
   "cell_type": "markdown",
   "metadata": {},
   "source": [
    "Create a random array of size 30 and find the mean of the array.\n",
    "{Hint:check for np.random.random() and array.mean() function}"
   ]
  },
  {
   "cell_type": "code",
   "execution_count": null,
   "metadata": {},
   "outputs": [],
   "source": [
    "random_array = np.random.random(30)\n",
    "random_array.mean()"
   ]
  },
  {
   "cell_type": "markdown",
   "metadata": {},
   "source": [
    "Create a 10X10 array with random values and find the minimum and maximum values."
   ]
  },
  {
   "cell_type": "code",
   "execution_count": null,
   "metadata": {},
   "outputs": [],
   "source": [
    "random_matrix  = np.random.random((10,10))\n",
    "# print(random_matrix)\n",
    "print(f\"Minimum value: {random_matrix.min()}\")\n",
    "print(f\"Maximum value: {random_matrix.max()}\")"
   ]
  },
  {
   "cell_type": "markdown",
   "metadata": {},
   "source": [
    "Create a zero array of size 10 and replace 5th element with 1."
   ]
  },
  {
   "cell_type": "code",
   "execution_count": null,
   "metadata": {},
   "outputs": [],
   "source": [
    "zero_array  = np.zeros(10)\n",
    "zero_array[4] = 1\n",
    "zero_array"
   ]
  },
  {
   "cell_type": "markdown",
   "metadata": {},
   "source": [
    "Reverse an array arr = [1,2,0,0,4,0]."
   ]
  },
  {
   "cell_type": "code",
   "execution_count": null,
   "metadata": {},
   "outputs": [],
   "source": [
    "arr = np.array([1,2,0,0,4,0])\n",
    "reversed_arr = arr[::-1]\n",
    "reversed_arr"
   ]
  },
  {
   "cell_type": "markdown",
   "metadata": {},
   "source": [
    "Create a 2d array with 1 on border and 0 inside."
   ]
  },
  {
   "cell_type": "code",
   "execution_count": null,
   "metadata": {},
   "outputs": [],
   "source": [
    "boarder_array = np.ones((5,5))\n",
    "boarder_array[1:-1, 1:-1] = 0\n",
    "boarder_array"
   ]
  },
  {
   "cell_type": "markdown",
   "metadata": {},
   "source": [
    "Create a 8X8 matrix and fill it with a checkerboard pattern.    "
   ]
  },
  {
   "cell_type": "code",
   "execution_count": null,
   "metadata": {},
   "outputs": [],
   "source": [
    "checkerboard = np.zeros((8, 8), dtype=int)\n",
    "checkerboard[1::2, ::2] = 1\n",
    "checkerboard[::2, 1::2] = 1\n",
    "\n",
    "checkerboard"
   ]
  },
  {
   "cell_type": "markdown",
   "metadata": {},
   "source": [
    "Problem - 3: Array Operations:"
   ]
  },
  {
   "cell_type": "code",
   "execution_count": null,
   "metadata": {},
   "outputs": [],
   "source": [
    "x = np.array([[1, 2], [3, 5]])\n",
    "y = np.array([[5, 6], [7, 8]])\n",
    "v = np.array([9, 10])\n",
    "w = np.array([11, 12])"
   ]
  },
  {
   "cell_type": "code",
   "execution_count": null,
   "metadata": {},
   "outputs": [],
   "source": [
    "x+y"
   ]
  },
  {
   "cell_type": "code",
   "execution_count": null,
   "metadata": {},
   "outputs": [],
   "source": [
    "x-y"
   ]
  },
  {
   "cell_type": "code",
   "execution_count": null,
   "metadata": {},
   "outputs": [],
   "source": [
    "x*3"
   ]
  },
  {
   "cell_type": "code",
   "execution_count": null,
   "metadata": {},
   "outputs": [],
   "source": [
    "np.square(x)"
   ]
  },
  {
   "cell_type": "code",
   "execution_count": null,
   "metadata": {},
   "outputs": [],
   "source": [
    "dot_vw = np.dot(v, w)  # Dot product of v and w\n",
    "dot_xv = np.dot(x, v)  # Dot product of x and v\n",
    "dot_xy = np.dot(x, y)  # Dot product of x and y\n",
    "\n",
    "print(\"\\nDot product of v and w:\", dot_vw)\n",
    "print(\"\\nDot product of x and v:\\n\", dot_xv)\n",
    "print(\"\\nDot product of x and y:\\n\", dot_xy)"
   ]
  },
  {
   "cell_type": "code",
   "execution_count": null,
   "metadata": {},
   "outputs": [],
   "source": [
    "print(x)\n",
    "print(\"\\n\")\n",
    "print(y)"
   ]
  },
  {
   "cell_type": "code",
   "execution_count": null,
   "metadata": {},
   "outputs": [],
   "source": [
    "# 6. Concatenate x and y along rows\n",
    "concat_xy = np.concatenate((x, y), axis=0)\n",
    "print(\"\\nConcatenation of x and y along rows:\\n\", concat_xy)\n",
    "\n",
    "# Concatenate v and w along columns\n",
    "concat_vw = np.vstack((v, w))\n",
    "print(\"\\nConcatenation of v and w along columns:\\n\", concat_vw)\n"
   ]
  },
  {
   "cell_type": "code",
   "execution_count": null,
   "metadata": {},
   "outputs": [],
   "source": [
    "# 7. Concatenating x and v\n",
    "try:\n",
    "    concat_xv = np.concatenate((x, v), axis=0)\n",
    "    print(\"\\nConcatenation of x and v:\\n\", concat_xv)\n",
    "except ValueError as e:\n",
    "    print(\"\\nError while concatenating x and v:\", e)"
   ]
  },
  {
   "cell_type": "markdown",
   "metadata": {},
   "source": [
    "**Problem - 4: Matrix Operations:**"
   ]
  },
  {
   "cell_type": "markdown",
   "metadata": {},
   "source": [
    "1. Prove\n",
    "𝐴\n",
    "⋅\n",
    "𝐴\n",
    "−\n",
    "1\n",
    "=\n",
    "𝐼\n",
    "A⋅A\n",
    "−1\n",
    " =I"
   ]
  },
  {
   "cell_type": "code",
   "execution_count": null,
   "metadata": {},
   "outputs": [],
   "source": [
    "A = np.array([[3, 4], [7, 8]])\n",
    "\n",
    "# Compute the inverse of A\n",
    "A_inv = np.linalg.inv(A)\n",
    "\n",
    "# Multiply A by its inverse\n",
    "I = np.dot(A, A_inv)\n",
    "\n",
    "# Print results\n",
    "print(\"A * A^-1:\\n\", I)\n",
    "\n",
    "# Check if it's an identity matrix\n",
    "print(\"\\nIs A * A^-1 approximately equal to I? \", np.allclose(I, np.eye(2)))\n"
   ]
  },
  {
   "cell_type": "markdown",
   "metadata": {},
   "source": [
    "To prove matrix multiplication is not commutative, we compute:\n",
    "\n",
    "𝐴\n",
    "𝐵\n",
    "AB (A multiplied by B)\n",
    "𝐵\n",
    "𝐴\n",
    "BA (B multiplied by A)\n",
    "Check if\n",
    "𝐴\n",
    "𝐵\n",
    "=\n",
    "𝐵\n",
    "𝐴\n",
    "AB=BA\n"
   ]
  },
  {
   "cell_type": "code",
   "execution_count": null,
   "metadata": {},
   "outputs": [],
   "source": [
    "B = np.array([[5, 3], [2, 1]])\n",
    "\n",
    "# Compute AB and BA\n",
    "AB = np.dot(A, B)\n",
    "BA = np.dot(B, A)\n",
    "\n",
    "# Print results\n",
    "print(\"\\nAB:\\n\", AB)\n",
    "print(\"\\nBA:\\n\", BA)\n",
    "\n",
    "# Check if they are equal\n",
    "print(\"\\nIs AB equal to BA? \", np.array_equal(AB, BA))\n"
   ]
  },
  {
   "cell_type": "markdown",
   "metadata": {},
   "source": [
    "Prove\n",
    "(\n",
    "𝐴\n",
    "𝐵\n",
    ")\n",
    "𝑇\n",
    "=\n",
    "𝐵\n",
    "𝑇\n",
    "𝐴\n",
    "𝑇\n",
    "(AB)\n",
    "T\n",
    " =B\n",
    "T\n",
    " A\n",
    "T\n",
    "\n",
    "The transpose of a product of two matrices follows the rule:\n",
    "\n",
    "(\n",
    "𝐴\n",
    "𝐵\n",
    ")\n",
    "𝑇\n",
    "=\n",
    "𝐵\n",
    "𝑇\n",
    "𝐴\n",
    "𝑇\n",
    "(AB)\n",
    "T\n",
    " =B\n",
    "T\n",
    " A\n",
    "T"
   ]
  },
  {
   "cell_type": "code",
   "execution_count": null,
   "metadata": {},
   "outputs": [],
   "source": [
    "# Compute (AB)^T\n",
    "AB_T = np.transpose(AB)\n",
    "\n",
    "# Compute B^T and A^T\n",
    "B_T = np.transpose(B)\n",
    "A_T = np.transpose(A)\n",
    "\n",
    "# Compute B^T A^T\n",
    "BT_AT = np.dot(B_T, A_T)\n",
    "\n",
    "# Print results\n",
    "print(\"\\n(AB)^T:\\n\", AB_T)\n",
    "print(\"\\nB^T A^T:\\n\", BT_AT)\n",
    "\n",
    "# Check if they are equal\n",
    "print(\"\\nIs (AB)^T equal to B^T A^T? \", np.array_equal(AB_T, BT_AT))\n"
   ]
  },
  {
   "cell_type": "markdown",
   "metadata": {},
   "source": [
    "Solving the Linear System Using the Inverse Method\n"
   ]
  },
  {
   "cell_type": "code",
   "execution_count": null,
   "metadata": {},
   "outputs": [],
   "source": [
    "# Define matrix A (coefficients)\n",
    "A = np.array([[2, -3, 1], [1, -1, 2], [3, 1, -1]])\n",
    "\n",
    "# Define matrix B (constants)\n",
    "B = np.array([-1, -3, 9])\n",
    "\n",
    "# Solve for X using inverse\n",
    "A_inv = np.linalg.inv(A)  # Compute inverse of A\n",
    "X = np.dot(A_inv, B)  # Compute X\n",
    "\n",
    "# Print results\n",
    "print(\"\\nSolution for x, y, z:\\n\", X)\n"
   ]
  },
  {
   "cell_type": "markdown",
   "metadata": {},
   "source": [
    "Solving Using np.linalg.solve"
   ]
  },
  {
   "cell_type": "code",
   "execution_count": null,
   "metadata": {},
   "outputs": [],
   "source": [
    "# Solve directly using np.linalg.solve\n",
    "X_solve = np.linalg.solve(A, B)\n",
    "\n",
    "# Print results\n",
    "print(\"\\nSolution using np.linalg.solve:\\n\", X_solve)\n"
   ]
  }
 ],
 "metadata": {
  "kernelspec": {
   "display_name": "Python 3",
   "language": "python",
   "name": "python3"
  },
  "language_info": {
   "codemirror_mode": {
    "name": "ipython",
    "version": 3
   },
   "file_extension": ".py",
   "mimetype": "text/x-python",
   "name": "python",
   "nbconvert_exporter": "python",
   "pygments_lexer": "ipython3",
   "version": "3.9.6"
  }
 },
 "nbformat": 4,
 "nbformat_minor": 4
}
